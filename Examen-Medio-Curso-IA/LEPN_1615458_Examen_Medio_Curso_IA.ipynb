{
  "nbformat": 4,
  "nbformat_minor": 0,
  "metadata": {
    "colab": {
      "name": "Examen-Medio-Curso-IA.ipynb",
      "provenance": []
    },
    "kernelspec": {
      "name": "python3",
      "display_name": "Python 3"
    },
    "language_info": {
      "name": "python"
    }
  },
  "cells": [
    {
      "cell_type": "markdown",
      "metadata": {
        "id": "gn4TuBnX_17k"
      },
      "source": [
        "#Examen de medio curso de **Inteligencia Artificial** Ingenieria biomédica Martes N4\n",
        "**Alumno:** Luis Enrique Palacios Nacianceno **Matrícula:**1615458\n",
        "\n"
      ]
    },
    {
      "cell_type": "markdown",
      "metadata": {
        "id": "1aDiVtDF3zMQ"
      },
      "source": [
        "1.1 El usuario dará un número al azar y el código calculará la suma de todos los números desde el 1 hasta el número dado por el usuario.\n",
        "Ejemplo: el usuario dió el número 4, el código deberá de dar como resultado 10\n",
        "\n"
      ]
    },
    {
      "cell_type": "code",
      "metadata": {
        "colab": {
          "base_uri": "https://localhost:8080/"
        },
        "id": "uzOvraJ133g1",
        "outputId": "a29b8a65-9c94-4b2c-ff23-6eb0038a249b"
      },
      "source": [
        "num=int(input(\"Favor de ingresar el numero límite de la sumatoria: \")) #Inicializamos y pedimos al usuario el numero límite de la suma\n",
        "suma=0 #Inicializamos el conteo de la suma en 0\n",
        "for x in range(num+1):#Creamos un ciclo for con los el numero que pedimos +1 para que tambien lo abarque a el\n",
        "  suma+=x#Añadimos la sumatoria de cada uno de los numeros en el ciclo for\n",
        "print(suma)#impresión de la suma total en la identación fuera del ciclo for"
      ],
      "execution_count": 54,
      "outputs": [
        {
          "output_type": "stream",
          "name": "stdout",
          "text": [
            "Favor de ingresar el numero límite de la sumatoria: 5\n",
            "15\n"
          ]
        }
      ]
    },
    {
      "cell_type": "markdown",
      "metadata": {
        "id": "x6qQTFjx31Uq"
      },
      "source": [
        "1.2 Dados el inicio y final de un rango de números, guardar ese rango de números en una lista. Después, imprimir los números que son pares en la lista por medio de uno de los ciclos que vimos en clase. \n",
        "Inicio = 6, final = 31"
      ]
    },
    {
      "cell_type": "code",
      "metadata": {
        "colab": {
          "base_uri": "https://localhost:8080/"
        },
        "id": "oBq3T1pq8VV8",
        "outputId": "cc041da5-14d3-46f2-a426-881fd7ca33c6"
      },
      "source": [
        "rango_inicio=6#Rango Inicial 6\n",
        "rango_final=31#Rango Final 31\n",
        "lista=[]#Creación de la lista vacia\n",
        "listapares=[]#Creación de la lista vacia de los numeros pares\n",
        "for x in range(rango_inicio,rango_final+1):#creamos un ciclo for con el rango inicial y el final +1\n",
        "  lista.append(x)#añadimos cada numero a la lista\n",
        "  if x%2==0:#verificamos el residuo del numero si es 0 entonces lo agregamos a la lista de pares\n",
        "    listapares.append(x)#añadimos a cada numero par a la lista\n",
        "print(listapares)#impresión de los numeros pares"
      ],
      "execution_count": 37,
      "outputs": [
        {
          "output_type": "stream",
          "name": "stdout",
          "text": [
            "[6, 8, 10, 12, 14, 16, 18, 20, 22, 24, 26, 28, 30]\n",
            "[6, 7, 8, 9, 10, 11, 12, 13, 14, 15, 16, 17, 18, 19, 20, 21, 22, 23, 24, 25, 26, 27, 28, 29, 30, 31]\n"
          ]
        }
      ]
    }
  ]
}