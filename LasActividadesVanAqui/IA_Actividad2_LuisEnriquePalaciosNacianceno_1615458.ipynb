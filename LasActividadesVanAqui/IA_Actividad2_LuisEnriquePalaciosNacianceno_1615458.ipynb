{
  "nbformat": 4,
  "nbformat_minor": 0,
  "metadata": {
    "colab": {
      "name": "IA_Actividad2_LuisEnriquePalaciosNacianceno_1615458.ipynb",
      "provenance": [],
      "collapsed_sections": []
    },
    "kernelspec": {
      "name": "python3",
      "display_name": "Python 3"
    },
    "language_info": {
      "name": "python"
    }
  },
  "cells": [
    {
      "cell_type": "markdown",
      "metadata": {
        "id": "-lVWTTyZV-4Z"
      },
      "source": [
        "####**Actividad 2.- Ejercicios Introducción Python**\n",
        "##### **Alumno:** Luis Enrique Palacios Nacianceno **Matrícula:** 1615458\n",
        "###### **Matería:** Inteligencia Artificial y Redes Neuronales, Martes **Hora** N4"
      ]
    },
    {
      "cell_type": "markdown",
      "metadata": {
        "id": "skkwyGpFX2lA"
      },
      "source": [
        "##Ejercicio 1.\n",
        "---\n",
        "Crear un programa que pregunte al usuario por su nombre, edad, una frase favorita y autor de la frase favorita. El programa deberá de imprimir un mensaje compuesto por el nombre y edad del usuario diciendo que su frase favorita es la que dió anteriormente y el autor de dicha frase es el nombre previamente dado. Aquí habrá que realizar una concatenación de variables. \n",
        "\n",
        "\n",
        "\n"
      ]
    },
    {
      "cell_type": "code",
      "metadata": {
        "colab": {
          "base_uri": "https://localhost:8080/"
        },
        "id": "OeKQ14ywaUg7",
        "outputId": "726dfa74-dda5-49b9-a569-67f3b2f3719a"
      },
      "source": [
        "nombre = input(\"Favor de colocar tu nombre: \") #Se pide el nombre y lo guardamos como variable\n",
        "edad = input(\"Favor de colocar tu edad: \")#Se pide la edad y lo guardamos como variable\n",
        "frase_fav=input(\"Escibe tu frase favorita: \")#Se pide la frase y lo guardamos como variable\n",
        "autor_frase=input(\"Escibe el nombre del autor de la frase: \")#Se pide el autor de la frase\n",
        "print(\"Nombre: \" +nombre+ \" Edad: \" + edad + \" años\"+ \" Frase favorita: \" + frase_fav + \", del autor: \" + autor_frase)\n",
        "#Creamos la concatenación de las variables que pedimos con texto para darle formato."
      ],
      "execution_count": null,
      "outputs": [
        {
          "output_type": "stream",
          "text": [
            "Favor de colocar tu nombre: Luis Enrique Palacios Nacianceno\n",
            "Favor de colocar tu edad: 23\n",
            "Escibe tu frase favorita: El respeto al derecho ajeno es la paz\n",
            "Escibe el nombre del autor de la frase: Benito Juárez\n",
            "Nombre: Luis Enrique Palacios Nacianceno Edad: 23 años Frase favorita: El respeto al derecho ajeno es la paz, del autor: Benito Juárez\n"
          ],
          "name": "stdout"
        }
      ]
    },
    {
      "cell_type": "markdown",
      "metadata": {
        "id": "Wg_XfoQTg12P"
      },
      "source": [
        "##Ejercicio 2.\n",
        "---\n",
        "Crear un programa que le pida al usuario capturar dos números enteros y dos números flotantes. Después, realizará la suma, resta, multiplicación y división, de ambos pares de números. Como resultado se deberán de obtener 8 valores. Imprimir todos estos reultados."
      ]
    },
    {
      "cell_type": "code",
      "metadata": {
        "colab": {
          "base_uri": "https://localhost:8080/"
        },
        "id": "cmmTIcC2g6x1",
        "outputId": "bc202fe0-15c6-40ff-bdde-a8d51e7452e0"
      },
      "source": [
        "e1=int(input(\"Escribe el primer numero entero: \")) #Se pide el primer numero entero\n",
        "e2=int(input(\"Escribe el segundo numero entero: \")) #Se pide el segundo numero entero\n",
        "f1=float(input(\" Escribe el primer numero flotante: \")) #Se pide el primer numero flotante \n",
        "f2=float(input(\" Escribe el segundo numero flotante: \")) #Se pide el segundo numero flotante\n",
        "\"\"\"\n",
        "Se realizan la sumas, restas, multiplicaciones y divisiones\n",
        "se guardan en variables y proximamente se imprimen\"\"\"\n",
        "\n",
        "suma1=(e1+e2)\n",
        "suma2=round(f1+f2,2)\n",
        "resta1=(e1-e2)\n",
        "resta2=round(f1-f2,2)\n",
        "multi1=(e1*e2)\n",
        "multi2=round(f1*f2,2)\n",
        "div1=(e1/e2)\n",
        "div2=round(f1/f2,2)\n",
        "\n",
        "#Impresion de las operaciones que fueron requeridas \n",
        "print(\"Sumas: \")\n",
        "print(suma1)\n",
        "print(suma2)\n",
        "print(\"Restas:\" )\n",
        "print(resta1)\n",
        "print(resta2)\n",
        "print(\"Multiplicaciones: \")\n",
        "print(multi1)\n",
        "print(multi2)\n",
        "print(\"Divisiones: \")\n",
        "print(div1)\n",
        "print(div2)"
      ],
      "execution_count": null,
      "outputs": [
        {
          "output_type": "stream",
          "text": [
            "Escribe el primer numero entero: 10\n",
            "Escribe el segundo numero entero: 20\n",
            " Escribe el primer numero flotante: 13.3\n",
            " Escribe el segundo numero flotante: 17.88\n",
            "Sumas: /n \n",
            "30\n",
            "31.18\n",
            "Restas\n",
            "-10\n",
            "-4.58\n",
            "Multiplicaciones \n",
            "200\n",
            "237.8\n",
            "Divisiones \n",
            "0.5\n",
            "0.74\n"
          ],
          "name": "stdout"
        }
      ]
    },
    {
      "cell_type": "markdown",
      "metadata": {
        "id": "FskShB_isEbk"
      },
      "source": [
        "##Ejercicio 3.\n",
        "---\n",
        "Crear un programa que evalúe dos expresiones lógicas con `and`, dos con `or` y dos con `not`. Cada expresión deberá hacer uso de operadores de comparación. "
      ]
    },
    {
      "cell_type": "code",
      "metadata": {
        "id": "o7afGgP9sKcE",
        "colab": {
          "base_uri": "https://localhost:8080/"
        },
        "outputId": "503c3f3d-c883-4064-e1d6-5c032dd97d19"
      },
      "source": [
        "print(12 > 3 and 2 > 1) #Operacion lógica AND donde tiene que tener ambas condiciones verdaderas para que tenga un TRUE de salida\n",
        "print(5 > 3 and 10 > 20)\n",
        "print(10 > 12 or 2>1)#Operacion lógica OR donde tiene que tener almenos una condicion verdadera para que tenga un TRUE de salida\n",
        "print(6 > 36 or 9 > 20)\n",
        "print( not 5 > 10) #Operación Not que es el negado del la expresión \n",
        "print( not 7 > 3)"
      ],
      "execution_count": null,
      "outputs": [
        {
          "output_type": "stream",
          "text": [
            "True\n",
            "False\n",
            "True\n",
            "False\n",
            "True\n",
            "False\n"
          ],
          "name": "stdout"
        }
      ]
    }
  ]
}