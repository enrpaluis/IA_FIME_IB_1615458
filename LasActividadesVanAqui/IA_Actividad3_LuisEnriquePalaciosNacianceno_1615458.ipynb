{
  "nbformat": 4,
  "nbformat_minor": 0,
  "metadata": {
    "colab": {
      "name": "IA_Actividad3_LuisEnriquePalaciosNacianceno_1615458.ipynb",
      "provenance": []
    },
    "kernelspec": {
      "name": "python3",
      "display_name": "Python 3"
    },
    "language_info": {
      "name": "python"
    }
  },
  "cells": [
    {
      "cell_type": "markdown",
      "metadata": {
        "id": "j6iexCJ6kvRw"
      },
      "source": [
        "####**Actividad 3.- Ejercicios Introducción Python, 2da parte**\n",
        "##### **Alumno:** Luis Enrique Palacios Nacianceno **Matrícula:** 1615458\n",
        "###### **Matería:** Inteligencia Artificial y Redes Neuronales, Martes **Hora** N4"
      ]
    },
    {
      "cell_type": "markdown",
      "metadata": {
        "id": "xBZS0n7cr-oV"
      },
      "source": [
        "##**Ejercicio 1**\n",
        "1.1 Piensa en 7 comidas diferente que te gusten. Implementa un programa que pregunte por las 7 comidas, las almacene en una lista y que posteriermente imprima cada una de ellas utilizando uno de los ciclos comentados en clase. \n",
        "\n",
        "1.2 Modifica el ejercicio 1.1 para que imprima cada una de las comidas favoritas junto con una oracición inicial: \"Una de mis comidas favoritas es [comida1]\".\n",
        "\n"
      ]
    },
    {
      "cell_type": "code",
      "metadata": {
        "colab": {
          "base_uri": "https://localhost:8080/"
        },
        "id": "uS-2cVyAs6C9",
        "outputId": "de87cfe9-28fe-47be-817b-fcd723ea2cd2"
      },
      "source": [
        "#Primero se va a crear la lista vacia donde se colocará las comidas favoritas\n",
        "Comidasfav=[] #Se colocan los corchetes vacios porque no tiene un indice aú, será llenado a continuación\n",
        "for x in range (7): #se crea un ciclo for para almacenar 7 veces las comidas\n",
        "  Comida=str(input(\"Favor de poner su comida favorita: \")) #Se almacena en una variable de comida de tipo string cada que el usuario\n",
        "  #ponga una comida\n",
        "  Comidasfav.append(Comida) #Se concatena la comida con la lista\n",
        "print(\"Tus 7 comidas favoritas son: \", Comidasfav)#Se imprime la lista creada con las comidas favoritas"
      ],
      "execution_count": null,
      "outputs": [
        {
          "output_type": "stream",
          "name": "stdout",
          "text": [
            "Favor de poner su comida favorita: Picadillo\n",
            "Favor de poner su comida favorita: Milanesa de pollo rellena\n",
            "Favor de poner su comida favorita: Spaguetti\n",
            "Favor de poner su comida favorita: Pizza\n",
            "Favor de poner su comida favorita: Papa asada\n",
            "Favor de poner su comida favorita: Sushi\n",
            "Favor de poner su comida favorita: Ramen\n",
            "Tus 7 comidas favoritas son:  ['Picadillo', 'Milanesa de pollo rellena', 'Spaguetti', 'Pizza', 'Papa asada', 'Sushi', 'Ramen']\n"
          ]
        }
      ]
    },
    {
      "cell_type": "code",
      "metadata": {
        "id": "pBqCJPoXk3bs",
        "colab": {
          "base_uri": "https://localhost:8080/"
        },
        "outputId": "1b9f5465-f0bd-4a30-da6a-45e6a920882c"
      },
      "source": [
        "print(\"Favor de poner sus 7 comidas favorita:\") #Se le pide al usuario que pongan 7 comidas sin repetir el texto en el ciclo\n",
        "Comidasfav=[] #Se colocan los corchetes vacios porque no tiene un indice aú, será llenado a continuación\n",
        "for x in range (7): #se crea un ciclo for para almacenar 7 veces las comidas\n",
        "  Comida=str(input(\" \"))#Se almacena la comida de tipo string en una variable llamada Comida\n",
        "  Comidasfav.append(Comida)#Se concatena la comida con la lista\n",
        "  print(\"Una de mis comidas favoritas es\",Comidasfav[x])#Se imprime el texto en cada ciclo"
      ],
      "execution_count": null,
      "outputs": [
        {
          "output_type": "stream",
          "name": "stdout",
          "text": [
            "Favor de poner sus 7 comidas favorita:\n",
            " Picadillo\n",
            "Una de mis comidas favoritas es Picadillo\n",
            " Milanesa de pollo rellena\n",
            "Una de mis comidas favoritas es Milanesa de pollo rellena\n",
            " Spaguetti\n",
            "Una de mis comidas favoritas es Spaguetti\n",
            " Pizza\n",
            "Una de mis comidas favoritas es Pizza\n",
            " Papa asada\n",
            "Una de mis comidas favoritas es Papa asada\n",
            " Sushi\n",
            "Una de mis comidas favoritas es Sushi\n",
            " Ramen\n",
            "Una de mis comidas favoritas es Ramen\n"
          ]
        }
      ]
    },
    {
      "cell_type": "markdown",
      "metadata": {
        "id": "-Eib72R_-emG"
      },
      "source": [
        "#Ejercicio 2\n",
        "Crear un juego de piedra, papel o tijera de dos jugadores. El programa preguntará por la opción del jugador 1 y la opción del jugador 2 y dará como resultado quien ganó el juego. "
      ]
    },
    {
      "cell_type": "code",
      "metadata": {
        "colab": {
          "base_uri": "https://localhost:8080/"
        },
        "id": "gIC2S3Nh-hQO",
        "outputId": "e02e53b1-8ee1-4c10-f185-b90ed646fb7a"
      },
      "source": [
        "#Piedra Papel y Tijera\n",
        "\n",
        "print(\"Bienvenido al juego de Piedra, Papel y Tijera\")#Bienvenida al juego\n",
        "print(\"Jugador 1: \") #Se imprime un texto para diferenciar entre el jugador 1 y 2 \n",
        "jugador1=str(input(\"Elije Piedra, Papel ó Tijera :\")) #Se le pide al jugador su opción y se guarda en strings\n",
        "print(\"Jugador 2: \") #Se imprime un texto para diferenciar entre el jugador 1 y 2 \n",
        "jugador2=str(input(\"Elije Piedra, Papel ó Tijera :\"))#Se le pide al jugador su opción y se guarda en strings\n",
        "\n",
        "#Condicionales si el jugador 2 Elije Piedra con las 3 posibilidades\n",
        "if jugador1=='Papel' and jugador2=='Piedra':\n",
        "  print(\"Ganó el Jugador 1\") #Se imprime el resultado del juego\n",
        "if jugador1=='Tijera' and jugador2=='Piedra':\n",
        "  print(\"Ganó el Jugador 2\")#Se imprime el resultado del juego\n",
        "if jugador1=='Piedra' and jugador2=='Piedra':\n",
        "  print(\"Empate\")#Se imprime el resultado del juego\n",
        "#Condicionales si el jugador 2 Elije Papel con las 3 posibilidades\n",
        "\n",
        "if jugador1=='Papel' and jugador2=='Papel':\n",
        "  print(\"Empate\")#Se imprime el resultado del juego\n",
        "if jugador1=='Tijera' and jugador2=='Papel':\n",
        "  print(\"Ganó el Jugador 1\")#Se imprime el resultado del juego\n",
        "if jugador1=='Piedra' and jugador2=='Papel':\n",
        "  print(\"Ganó el Jugador 2\")#Se imprime el resultado del juego\n",
        "  \n",
        "#Condicionales si el jugador 2 Elije Tijera con las 3 posibilidades\n",
        "if jugador1=='Papel' and jugador2=='Tijera':\n",
        "  print(\"Ganó el Jugador 2\")#Se imprime el resultado del juego\n",
        "if jugador1=='Tijera' and jugador2=='Tijera':\n",
        "  print(\"Empate\")#Se imprime el resultado del juego\n",
        "if jugador1=='Piedra' and jugador2=='Tijera':\n",
        "  print(\"Ganó el jugador 1\")#Se imprime el resultado del juego\n"
      ],
      "execution_count": null,
      "outputs": [
        {
          "output_type": "stream",
          "name": "stdout",
          "text": [
            "Bienvenido al juego de Piedra, Papel y Tijera\n",
            "Jugador 1: \n",
            "Elije Piedra, Papel ó Tijera :Tijera\n",
            "Jugador 2: \n",
            "Elije Piedra, Papel ó Tijera :Papel\n",
            "Ganó el Jugador 1\n"
          ]
        }
      ]
    },
    {
      "cell_type": "markdown",
      "metadata": {
        "id": "yOfSdZQyCJUI"
      },
      "source": [
        "#Ejercicio 3\n",
        "Implementar un programa que imprima el siguiente patron:\n",
        "* 123456\n",
        "* 12345\n",
        "* 1234\n",
        "* 123\n",
        "* 12\n",
        "* 1\n",
        "* 12\n",
        "* 123\n",
        "* 1234\n",
        "* 12345\n",
        "* 123456"
      ]
    },
    {
      "cell_type": "code",
      "metadata": {
        "colab": {
          "base_uri": "https://localhost:8080/"
        },
        "id": "XBiypR5KHf1H",
        "outputId": "130be496-d9aa-4edb-9859-2606fc260bff"
      },
      "source": [
        "#Primero creamos la region superior de la figura, anidando un ciclo for \n",
        "#para las filas y las columnas\n",
        "for f in range(6,1,-1): #buscamos iniciar con todos los numeros del 1 al 6, el conteo es de adelante hacia atrás\n",
        "  for c in range(1,f+1):#para las filas iniciamos en 1 y vamos agregando 1 en 1\n",
        "    print(c, end=\"\")#imprimimos las columnas y terminamos el espacio\n",
        "  print()#imrpimimos el renglón para la separación cada que termine una iteración\n",
        "\n",
        "#Segundo creamos la region superior de la figura, anidando un ciclo for \n",
        "#para las filas y las columnas\n",
        "for x in range(1,6+1): #buscamos iniciar con todos los numeros del 1 al 6, solamente sumamos 1 en 1\n",
        "  for y in range(1,x+1):#para las filas iniciamos en 1 y vamos agregando 1 en 1\n",
        "    print(y, end=\"\")#imprimimos las columnas y terminamos el espacio\n",
        "  print()#imrpimimos el renglón para la separación cada que termine una iteración\n",
        "\n"
      ],
      "execution_count": 126,
      "outputs": [
        {
          "output_type": "stream",
          "name": "stdout",
          "text": [
            "123456\n",
            "12345\n",
            "1234\n",
            "123\n",
            "12\n",
            "1\n",
            "12\n",
            "123\n",
            "1234\n",
            "12345\n",
            "123456\n"
          ]
        }
      ]
    }
  ]
}